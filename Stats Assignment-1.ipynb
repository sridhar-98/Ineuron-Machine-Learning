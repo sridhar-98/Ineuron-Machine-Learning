{
 "cells": [
  {
   "cell_type": "code",
   "execution_count": 2,
   "metadata": {},
   "outputs": [],
   "source": [
    "import numpy as np\n",
    "import matplotlib.pyplot as plt\n",
    "import seaborn as sns\n",
    "import scipy.stats as st\n",
    "from scipy.integrate import quad"
   ]
  },
  {
   "cell_type": "markdown",
   "metadata": {},
   "source": [
    "Calculate the mean, median, mode and standard deviation for the problem\n",
    "statements 1& 2."
   ]
  },
  {
   "cell_type": "markdown",
   "metadata": {},
   "source": [
    "Problem Statement 1:\n",
    "The marks awarded for an assignment set for a Year 8 class of 20 students were as\n",
    "follows:\n",
    "6 7 5 7 7 8 7 6 9 7 4 10 6 8 8 9 5 6 4 8"
   ]
  },
  {
   "cell_type": "code",
   "execution_count": 3,
   "metadata": {},
   "outputs": [
    {
     "name": "stdout",
     "output_type": "stream",
     "text": [
      "The mean of the data is : 6.85\n",
      "The median of the data is 7.0: \n",
      "The standard deviation of the data is : 1.5898113095584647\n"
     ]
    }
   ],
   "source": [
    "arr=np.array([6,7,5,7,7,8,7,6,9,7,4,10,6,8,8,9,5,6,4,8])\n",
    "mean=np.mean(arr)\n",
    "median=np.median(arr)\n",
    "std=np.std(arr)\n",
    "print(\"The mean of the data is : {}\".format(mean))\n",
    "print(\"The median of the data is {}: \".format(median))\n",
    "print(\"The standard deviation of the data is : {}\".format(std))"
   ]
  },
  {
   "cell_type": "markdown",
   "metadata": {},
   "source": [
    "2. The number of calls from motorists per day for roadside service was recorded for a\n",
    "particular month:\n",
    "28, 122, 217, 130, 120, 86, 80, 90, 140, 120, 70, 40, 145, 113, 90, 68, 174, 194, 170,\n",
    "100, 75, 104, 97, 75,\n",
    "123, 100, 75, 104, 97, 75, 123, 100, 89, 120, 109"
   ]
  },
  {
   "cell_type": "code",
   "execution_count": 4,
   "metadata": {},
   "outputs": [
    {
     "name": "stdout",
     "output_type": "stream",
     "text": [
      "The mean of the data is : 107.51428571428572\n",
      "The median of the data is 100.0: \n",
      "The standard deviation of the data is : 38.77287080168403\n"
     ]
    }
   ],
   "source": [
    "arr1=np.array([28, 122, 217, 130, 120, 86, 80, 90, 140, 120, 70, 40, 145, 113, 90, 68, 174, 194, 170,\n",
    "100, 75, 104, 97, 75,123, 100, 75, 104, 97, 75, 123, 100, 89, 120, 109])\n",
    "mean=np.mean(arr1)\n",
    "median=np.median(arr1)\n",
    "std=np.std(arr1)\n",
    "print(\"The mean of the data is : {}\".format(mean))\n",
    "print(\"The median of the data is {}: \".format(median))\n",
    "print(\"The standard deviation of the data is : {}\".format(std))"
   ]
  },
  {
   "cell_type": "markdown",
   "metadata": {},
   "source": [
    "Problem Statement 3:\n",
    "The number of times I go to the gym in weekdays, are given below along with its\n",
    "associated probability:\n",
    "x = 0, 1, 2, 3, 4, 5\n",
    "f(x) = 0.09, 0.15, 0.40, 0.25, 0.10, 0.01\n",
    "Calculate the mean no. of workouts in a week. Also evaluate the variance involved in it"
   ]
  },
  {
   "cell_type": "code",
   "execution_count": 17,
   "metadata": {},
   "outputs": [
    {
     "name": "stdout",
     "output_type": "stream",
     "text": [
      "The mean number of workouts in a week are 2.15\n",
      "The variance is 1.2275\n"
     ]
    }
   ],
   "source": [
    "x=[0, 1, 2, 3, 4, 5]\n",
    "p=[0.09, 0.15, 0.40, 0.25, 0.10, 0.01]\n",
    "avg=0\n",
    "var=0\n",
    "for i,j in zip(x,p):\n",
    "    avg=avg+i*j\n",
    "for i,j in zip(x,p):\n",
    "    var=var+(((i-avg)**2)*j)\n",
    "print(\"The mean number of workouts in a week are {}\".format(avg))\n",
    "print(\"The variance is {}\".format(var))"
   ]
  },
  {
   "cell_type": "markdown",
   "metadata": {},
   "source": [
    "Problem Statement 4:\n",
    "Let the continuous random variable D denote the diameter of the hole drilled in an\n",
    "aluminum sheet. The target diameter to be achieved is 12.5mm. Random\n",
    "disturbances in the process often result in inaccuracy.\n",
    "Historical data shows that the distribution of D can be modelled by the PDF (𝑑) =\n",
    "20𝑒−20(𝑑−12.5), 𝑑 ≥ 12.5. If a part with diameter > 12.6 mm needs to be scrapped,\n",
    "what is the proportion of those parts? What is the CDF when the diameter is of 11\n",
    "mm? What is your conclusion regarding the proportion of scraps?"
   ]
  },
  {
   "cell_type": "code",
   "execution_count": 195,
   "metadata": {},
   "outputs": [
    {
     "name": "stdout",
     "output_type": "stream",
     "text": [
      "The proportion of the parts with diameter greater than 12.6mm is: 0.13533528323661398\n",
      "The cdf when the diameter is of 11mm is zero\n",
      "The proportion of the parts between 12.5 and 12.6 is: 0.8646647167633718\n",
      "In other words sum of the proportion of the parts between 1.5 and 12.6 and proportion of the parts greater than 12.6 is 1,which indicates that the proportion of the parts less than 12.5 is 0\n"
     ]
    }
   ],
   "source": [
    "def prob_func(d):\n",
    "    return (20*np.exp(-20*(d-12.5)))\n",
    "res=quad(prob_func,a=12.6,b=np.inf)[0]\n",
    "#integral(PDF(d) with limits 12.6,inf)--P(X>12.6)\n",
    "print(\"The proportion of the parts with diameter greater than 12.6mm is:\",res)\n",
    "#If d<12.5, pdf(d)=0\n",
    "print(\"The cdf when the diameter is of 11mm is zero\")\n",
    "#P(X<12.5)=0\n",
    "res1=quad(prob_func,a=12.5,b=12.6)[0]\n",
    "print(\"The proportion of the parts between 12.5 and 12.6 is:\",res1)\n",
    "print(\"In other words sum of the proportion of the parts between 1.5 and 12.6 and proportion of the parts greater than 12.6 is 1,which indicates that the proportion of the parts less than 12.5 is 0\")"
   ]
  },
  {
   "cell_type": "markdown",
   "metadata": {},
   "source": [
    "Problem Statement 5:\n",
    "A company manufactures LED bulbs with a faulty rate of 30%. If I randomly select 6\n",
    "chosen LEDs, what is the probability of having 2 faulty LEDs in my sample?\n",
    "Calculate the average value of this process. Also evaluate the standard deviation\n",
    "associated with it."
   ]
  },
  {
   "cell_type": "code",
   "execution_count": 51,
   "metadata": {},
   "outputs": [
    {
     "name": "stdout",
     "output_type": "stream",
     "text": [
      "The probability of finding two faulty led's is 0.3213\n",
      "The mean of the process is 1.809\n",
      "The standard deviation of the process is 1.1304507950370948\n"
     ]
    }
   ],
   "source": [
    "faulty_rate=0.3\n",
    "n=6\n",
    "r=2\n",
    "trails=20000\n",
    "binom=np.random.binomial(n,faulty_rate,trails)\n",
    "probability_of_2_faulty=np.sum(binom==2)/20000\n",
    "mean=binom.mean()\n",
    "standard_dev=binom.std()\n",
    "print(\"The probability of finding two faulty led's is {}\".format(probability_of_2_faulty))\n",
    "print(\"The mean of the process is {}\".format(mean))\n",
    "print('The standard deviation of the process is {}'.format(standard_dev))"
   ]
  },
  {
   "cell_type": "markdown",
   "metadata": {},
   "source": [
    "6.Gaurav and Barakha are both preparing for entrance exams. Gaurav attempts to\n",
    "solve 8 questions per day with a correction rate of 75%, while Barakha averages\n",
    "around 12 questions per day with a correction rate of 45%. What is the probability\n",
    "that each of them will solve 5 questions correctly? What happens in cases of 4 and 6\n",
    "correct solutions? What do you infer from it? What are the two main governing\n",
    "factors affecting their ability to solve questions correctly? Give a pictorial\n",
    "representation of the same to validate your answer."
   ]
  },
  {
   "cell_type": "code",
   "execution_count": 43,
   "metadata": {},
   "outputs": [
    {
     "name": "stdout",
     "output_type": "stream",
     "text": [
      "Probability of gaurav solving 5 questions correctly is: 0.2105\n",
      "Probability of barkha solving 5 questions correctly is: 0.22125\n",
      "Probability of gaurav solving 4 questions correctly is: 0.0876\n",
      "Probability of barkha solving 4 questions correctly is: 0.16775\n",
      "Probability of gaurav solving 6 questions correctly is: 0.3087\n",
      "Probability of barkha solving 6 questions correctly is: 0.21215\n"
     ]
    }
   ],
   "source": [
    "gaurav_dist=np.random.binomial(8,0.75,20000)\n",
    "barkha_dist=np.random.binomial(12,0.45,20000)\n",
    "gaurav_prob=[]\n",
    "barkha_prob=[]\n",
    "for i in range(9):\n",
    "    gaurav_prob.append(np.sum(gaurav_dist==i)/20000)\n",
    "    barkha_prob.append(np.sum(barkha_dist==i)/20000)\n",
    "print(\"Probability of gaurav solving 5 questions correctly is:\",gaurav_prob[5])\n",
    "print(\"Probability of barkha solving 5 questions correctly is:\",barkha_prob[5])\n",
    "print(\"Probability of gaurav solving 4 questions correctly is:\",gaurav_prob[4])\n",
    "print(\"Probability of barkha solving 4 questions correctly is:\",barkha_prob[4])\n",
    "print(\"Probability of gaurav solving 6 questions correctly is:\",gaurav_prob[6])\n",
    "print(\"Probability of barkha solving 6 questions correctly is:\",barkha_prob[6])"
   ]
  },
  {
   "cell_type": "code",
   "execution_count": 50,
   "metadata": {},
   "outputs": [
    {
     "data": {
      "text/plain": [
       "Text(0.5, 1.0, 'Probability distribution of Gaurav with p=0.75,n=8')"
      ]
     },
     "execution_count": 50,
     "metadata": {},
     "output_type": "execute_result"
    },
    {
     "data": {
      "image/png": "[encoded data removed]",
      "text/plain": [
       "<Figure size 432x288 with 1 Axes>"
      ]
     },
     "metadata": {
      "needs_background": "light"
     },
     "output_type": "display_data"
    }
   ],
   "source": [
    "x=[i for i in range(9)]\n",
    "plt.plot(x,gaurav_prob)\n",
    "plt.xlabel(\"Number of correct questions\")\n",
    "plt.ylabel(\"P(x)\")\n",
    "plt.title(\"Probability distribution of Gaurav with p=0.75,n=8\")"
   ]
  },
  {
   "cell_type": "code",
   "execution_count": 47,
   "metadata": {},
   "outputs": [
    {
     "data": {
      "text/plain": [
       "Text(0.5, 1.0, 'Probability distribution of Barkha with p=0.45,n=12')"
      ]
     },
     "execution_count": 47,
     "metadata": {},
     "output_type": "execute_result"
    },
    {
     "data": {
      "image/png": "[encoded data removed]",
      "text/plain": [
       "<Figure size 432x288 with 1 Axes>"
      ]
     },
     "metadata": {
      "needs_background": "light"
     },
     "output_type": "display_data"
    }
   ],
   "source": [
    "plt.plot(x,barkha_prob)\n",
    "plt.xlabel(\"Number of correct questions\")\n",
    "plt.ylabel(\"P(x)\")\n",
    "plt.title(\"Probability distribution of Barkha with p=0.45,n=12\")"
   ]
  },
  {
   "cell_type": "code",
   "execution_count": 55,
   "metadata": {},
   "outputs": [
    {
     "data": {
      "text/plain": [
       "Text(0.5, 1.0, 'Probability distribution of gaurav and Barkha ')"
      ]
     },
     "execution_count": 55,
     "metadata": {},
     "output_type": "execute_result"
    },
    {
     "data": {
      "image/png": "[encoded data removed]",
      "text/plain": [
       "<Figure size 432x288 with 1 Axes>"
      ]
     },
     "metadata": {
      "needs_background": "light"
     },
     "output_type": "display_data"
    }
   ],
   "source": [
    "plt.plot(x,gaurav_prob,label=\"Gaurav\")\n",
    "plt.plot(x,barkha_prob,label='Barkha')\n",
    "plt.xlabel(\"Number of correct questions\")\n",
    "plt.ylabel(\"P(x)\")\n",
    "plt.figlegend()\n",
    "plt.title(\"Probability distribution of gaurav and Barkha \")"
   ]
  },
  {
   "cell_type": "markdown",
   "metadata": {},
   "source": [
    "7.Customers arrive at a rate of 72 per hour to my shop. What is the probability of 𝑘\n",
    "customers arriving in 4 minutes? a) 5 customers, b) not more than 3 customers, c)\n",
    "more than 3 customers. Give a pictorial representation of the same to validate your\n",
    "answer."
   ]
  },
  {
   "cell_type": "code",
   "execution_count": 96,
   "metadata": {},
   "outputs": [
    {
     "name": "stdout",
     "output_type": "stream",
     "text": [
      "The probability of 5 customers arriving is 0.17\n",
      "The probability of not more than 3 customers is :0.31\n",
      "The probability of more than 3 customers is 0.69\n"
     ]
    },
    {
     "data": {
      "text/plain": [
       "<matplotlib.axes._subplots.AxesSubplot at 0x1ced66cf8c8>"
      ]
     },
     "execution_count": 96,
     "metadata": {},
     "output_type": "execute_result"
    },
    {
     "data": {
      "image/png": "[encoded data removed]",
      "text/plain": [
       "<Figure size 432x288 with 1 Axes>"
      ]
     },
     "metadata": {
      "needs_background": "light"
     },
     "output_type": "display_data"
    }
   ],
   "source": [
    "mean_4mins=(72/60)*4\n",
    "dist=np.random.poisson(mean_4mins,1000)\n",
    "prob_5=np.sum(dist==5)/1000\n",
    "prob_less_than_3=np.sum(dist<=3)/1000\n",
    "prob_more_3=np.sum(dist>3)/1000\n",
    "print(\"The probability of 5 customers arriving is {}\".format(prob_5))\n",
    "print('The probability of not more than 3 customers is :{}'.format(prob_less_than_3))\n",
    "print(\"The probability of more than 3 customers is {}\".format(prob_more_3))\n",
    "sns.distplot(dist,hist=False,color='red')"
   ]
  },
  {
   "cell_type": "markdown",
   "metadata": {},
   "source": [
    "Problem Statement 8:\n",
    "I work as a data analyst in Aeon Learning Pvt. Ltd. After analyzing data, I make\n",
    "reports, where I have the efficiency of entering 77 words per minute with 6 errors per\n",
    "hour. What is the probability that I will commit 2 errors in a 455-word financial report?\n",
    "What happens when the no. of words increases/decreases (in case of 1000 words,\n",
    "255 words)?\n",
    "How is the 𝜆 affected?\n",
    "How does it influence the PMF?\n",
    "Give a pictorial representation of the same to validate your answer."
   ]
  },
  {
   "cell_type": "code",
   "execution_count": 17,
   "metadata": {},
   "outputs": [
    {
     "data": {
      "text/plain": [
       "Text(0, 0.5, 'Probability of two errors')"
      ]
     },
     "execution_count": 17,
     "metadata": {},
     "output_type": "execute_result"
    },
    {
     "data": {
      "image/png": "[encoded data removed]",
      "text/plain": [
       "<Figure size 432x288 with 1 Axes>"
      ]
     },
     "metadata": {
      "needs_background": "light"
     },
     "output_type": "display_data"
    }
   ],
   "source": [
    "n_errors_per_min=6/60 \n",
    "words=[100,255,455,1000,1500]\n",
    "prob=[]\n",
    "for i in words:\n",
    "    lamda=(i/77)*n_errors_per_min\n",
    "    dist=np.random.poisson(lamda,1000)\n",
    "    prob.append(np.sum(dist==2)/1000)\n",
    "plt.plot(words,prob)\n",
    "plt.xlabel(\"Number of Words\")\n",
    "plt.ylabel(\"Probability of two errors\")"
   ]
  },
  {
   "cell_type": "code",
   "execution_count": null,
   "metadata": {},
   "outputs": [],
   "source": [
    "#From the above graph we can infer that as the number of words increases, the probability of committing two errors also increases"
   ]
  },
  {
   "cell_type": "code",
   "execution_count": null,
   "metadata": {},
   "outputs": [],
   "source": [
    "#Problem Statement 9 is same as 4"
   ]
  },
  {
   "cell_type": "markdown",
   "metadata": {},
   "source": [
    "Problem Statement 10:\n",
    "Please compute the following:\n",
    "a) P(Z > 1.26), . P(Z < −0.86), P(Z > −1.37), P(−1.25 < Z < 0.37), . P(Z ≤ −4.6)\n",
    "b) Find the value 𝑧 such that 𝑃(𝑍 > 𝑧) = 0.05\n",
    "c) Find the value of 𝑧 such that 𝑃(−𝑧 < 𝑍 < 𝑧) = 0.99"
   ]
  },
  {
   "cell_type": "code",
   "execution_count": 161,
   "metadata": {},
   "outputs": [
    {
     "name": "stdout",
     "output_type": "stream",
     "text": [
      "P(Z > 1.26) :  0.10383468112130045\n",
      "P(Z < −0.86): 0.1948945212518084\n",
      "P(Z > −1.37): 0.914656549178033\n",
      "P(−1.25 < Z < 0.37): 0.5386589811336914\n",
      "P(Z ≤ −4.6): 2.1124547024964357e-06\n",
      "value 𝑧 such that 𝑃(𝑍 > 𝑧) = 0.05: 1.6448536269514729\n",
      "value of 𝑧 such that 𝑃(−𝑧 < 𝑍 < 𝑧): 2.3263478740408408\n"
     ]
    }
   ],
   "source": [
    "print(\"P(Z > 1.26) : \",1-(st.norm.cdf(1.26)))\n",
    "print(\"P(Z < −0.86):\",st.norm.cdf(-0.86))\n",
    "print(\"P(Z > −1.37):\",1-(st.norm.cdf(-1.37)))\n",
    "print(\"P(−1.25 < Z < 0.37):\",(st.norm.cdf(0.37)-st.norm.cdf(-1.25)))\n",
    "print(\"P(Z ≤ −4.6):\",1-(st.norm.cdf(4.6)))\n",
    "print(\"value 𝑧 such that 𝑃(𝑍 > 𝑧) = 0.05:\",np.absolute(st.norm.ppf(0.05)))\n",
    "print(\"value of 𝑧 such that 𝑃(−𝑧 < 𝑍 < 𝑧):\",st.norm.ppf(0.99))"
   ]
  },
  {
   "cell_type": "markdown",
   "metadata": {},
   "source": [
    "Problem Statement 11:\n",
    "The current flow in a copper wire follow a normal distribution with a mean of 10 𝑚A\n",
    "and a variance of 4 (𝑚𝐴)2.\n",
    "What is the probability that a current measurement will exceed 13 𝑚𝐴? What is the\n",
    "probability that a current measurement is between 9 and 11mA? Determine the\n",
    "current measurement which has a probability of 0.98."
   ]
  },
  {
   "cell_type": "code",
   "execution_count": 174,
   "metadata": {},
   "outputs": [
    {
     "name": "stdout",
     "output_type": "stream",
     "text": [
      "probability that a current measurement will exceed 13 𝑚𝐴: 0.06680720126885809\n",
      "probability that a current measurement is between 9 and 11mA: 0.38292492254802624\n",
      "current measurement which has a probability of 0.98: 14.107497821263646\n"
     ]
    }
   ],
   "source": [
    "mean=10\n",
    "std=2\n",
    "print(\"probability that a current measurement will exceed 13 𝑚𝐴:\",1-(st.norm.cdf(x=13,loc=mean,scale=std)))\n",
    "print(\"probability that a current measurement is between 9 and 11mA:\",(st.norm.cdf(x=11,loc=mean,scale=std)-st.norm.cdf(x=9,loc=mean,scale=std)))\n",
    "print(\"current measurement which has a probability of 0.98:\",st.norm.ppf(q=0.98,loc=mean,scale=std))"
   ]
  },
  {
   "cell_type": "markdown",
   "metadata": {},
   "source": [
    "Problem Statement 12:\n",
    "The shaft in a piston has its diameter normally distributed with a mean of 0.2508 inch\n",
    "and a standard deviation of 0.0005 inch. The specifications of the shaft are 0.2500 ∓\n",
    "0.0015 inch. What proportion of shafts are in sync with the specifications? If the\n",
    "process is centered so that the mean is equal to the target value of 0.2500, what\n",
    "proportion of shafts conform to the new specifications? What is your conclusion from\n",
    "this experiment?"
   ]
  },
  {
   "cell_type": "code",
   "execution_count": 178,
   "metadata": {},
   "outputs": [
    {
     "name": "stdout",
     "output_type": "stream",
     "text": [
      "Proportion of shafts in sync with the specifications are: 0.91924122831152\n",
      "Proportion of shafts in sync with the specifications after the process is centered is: 0.9973002039367398\n"
     ]
    }
   ],
   "source": [
    "mean=0.2508\n",
    "std=0.0005\n",
    "l1=0.2500-0.0015\n",
    "l2=0.2500+0.0015\n",
    "print(\"Proportion of shafts in sync with the specifications are:\",(st.norm.cdf(x=l2,loc=mean,scale=std)-st.norm.cdf(x=l1,loc=mean,scale=std)))\n",
    "new_mean=0.2500\n",
    "print(\"Proportion of shafts in sync with the specifications after the process is centered is:\",(st.norm.cdf(x=l2,loc=new_mean,scale=std)-st.norm.cdf(x=l1,loc=new_mean,scale=std)))"
   ]
  },
  {
   "cell_type": "markdown",
   "metadata": {},
   "source": [
    "Conclusion:\n",
    "If the mean of the shafts is centered to the mean of the specifications of the shaft the proportion of shafts which are in sync with the specification increases."
   ]
  }
 ],
 "metadata": {
  "kernelspec": {
   "display_name": "Python 3",
   "language": "python",
   "name": "python3"
  },
  "language_info": {
   "codemirror_mode": {
    "name": "ipython",
    "version": 3
   },
   "file_extension": ".py",
   "mimetype": "text/x-python",
   "name": "python",
   "nbconvert_exporter": "python",
   "pygments_lexer": "ipython3",
   "version": "3.7.4"
  }
 },
 "nbformat": 4,
 "nbformat_minor": 2
}
