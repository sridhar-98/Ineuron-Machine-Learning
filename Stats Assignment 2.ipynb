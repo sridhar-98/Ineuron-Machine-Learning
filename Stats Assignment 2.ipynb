{
 "cells": [
  {
   "cell_type": "code",
   "execution_count": 1,
   "metadata": {},
   "outputs": [],
   "source": [
    "import numpy as np\n",
    "import scipy.stats as st\n",
    "import matplotlib.pyplot as plt\n",
    "import seaborn as sns\n",
    "import pandas as pd"
   ]
  },
  {
   "cell_type": "code",
   "execution_count": 6,
   "metadata": {},
   "outputs": [],
   "source": [
    "def z_stat(samp_mean,pop_mean,se):\n",
    "    return (samp_mean-pop_mean)/se\n",
    "def t_stat(samp_mean,pop_mean,se):\n",
    "    return (samp_mean-pop_mean)/se\n",
    "def sample_error(std,n):\n",
    "    return std/(np.sqrt(n))"
   ]
  },
  {
   "cell_type": "markdown",
   "metadata": {},
   "source": [
    "Problem Statement 1:\n",
    "In each of the following situations, state whether it is a correctly stated hypothesis\n",
    "testing problem and why?\n",
    "1. 𝐻0: 𝜇 = 25, 𝐻1: 𝜇 ≠ 25\n",
    "   It is a correctly stated hypothesis and it is a two tailed test(𝜇<25 or 𝜇>25)\n",
    "2. 𝐻0: 𝜎 > 10, 𝐻1: 𝜎 = 10\n",
    "    It is an incorrect hypothesis and the H1 should be 𝜎<10\n",
    "3. 𝐻0: 𝑥 = 50, 𝐻1: 𝑥 ≠ 50\n",
    "    It is an correctly stated hypothesis and it is a two tailed test(x>50 or x<50)\n",
    "4. 𝐻0: 𝑝 = 0.1, 𝐻1: 𝑝 = 0.5\n",
    "   It is an incorrect hypothesis and the alternative hypothesis should be H1:p ≠ 0.1\n",
    "5. 𝐻0: 𝑠 = 30, 𝐻1: 𝑠 > 30\n",
    "    It is an incorrect hypothesis and the alternative hypothesis should be H1:s≠30 "
   ]
  },
  {
   "cell_type": "markdown",
   "metadata": {},
   "source": [
    "Problem Statement 2:\n",
    "The college bookstore tells prospective students that the average cost of its\n",
    "textbooks is Rs. 52 with a standard deviation of Rs. 4.50. A group of smart statistics\n",
    "students thinks that the average cost is higher. To test the bookstore’s claim against\n",
    "their alternative, the students will select a random sample of size 100. Assume that\n",
    "the mean from their random sample is Rs. 52.80. Perform a hypothesis test at the\n",
    "5% level of significance and state your decision."
   ]
  },
  {
   "cell_type": "markdown",
   "metadata": {},
   "source": [
    "Null Hypothesis H0: 𝜇=52\n",
    "Alternative Hypothesis H1: 𝜇!=52(Two tailed test)"
   ]
  },
  {
   "cell_type": "code",
   "execution_count": 11,
   "metadata": {},
   "outputs": [
    {
     "name": "stdout",
     "output_type": "stream",
     "text": [
      "Null Hypothesis is accepted,  𝜇=52\n"
     ]
    }
   ],
   "source": [
    "#Since the population variance is given and the sample size>30 we can use the z-test\n",
    "alpha=0.05\n",
    "pop_mean=52\n",
    "pop_std=4.5\n",
    "samp_size=100\n",
    "samp_mean=52.80\n",
    "se=sample_error(pop_std,samp_size)\n",
    "z=z_stat(pop_mean,samp_mean,se)\n",
    "p=2*(1-(st.norm.cdf(np.absolute(z))))\n",
    "if p<alpha:\n",
    "    print(\"Null Hypothesis is rejected, 𝜇!=52\")\n",
    "else:\n",
    "    print(\"Null Hypothesis is accepted,  𝜇=52\")"
   ]
  },
  {
   "cell_type": "markdown",
   "metadata": {},
   "source": [
    "Problem Statement 3:\n",
    "A certain chemical pollutant in the Genesee River has been constant for several\n",
    "years with mean μ = 34 ppm (parts per million) and standard deviation σ = 8 ppm. A\n",
    "group of factory representatives whose companies discharge liquids into the river is\n",
    "now claiming that they have lowered the average with improved filtration devices. A\n",
    "group of environmentalists will test to see if this is true at the 1% level of\n",
    "significance. Assume \\ that their sample of size 50 gives a mean of 32.5 ppm.\n",
    "Perform a hypothesis test at the 1% level of significance and state your decision."
   ]
  },
  {
   "cell_type": "raw",
   "metadata": {},
   "source": [
    "Null Hypothesis H0: 𝜇=34, \n",
    "Alternative Hypothesis H1: 𝜇<34(One tailed test)(Left-tailed)"
   ]
  },
  {
   "cell_type": "code",
   "execution_count": 12,
   "metadata": {},
   "outputs": [
    {
     "name": "stdout",
     "output_type": "stream",
     "text": [
      "Null Hypothesis is accepted,  𝜇=34\n"
     ]
    }
   ],
   "source": [
    "#Since the population variance is given and the sample size>30 we can use the z-test\n",
    "z=z_stat(pop_mean=34,samp_mean=32.5,se=sample_error(8,50))\n",
    "p=st.norm.cdf(z)\n",
    "alpha=0.01\n",
    "if p<alpha:\n",
    "    print(\"Null Hypothesis is rejected, 𝜇<34\")\n",
    "else:\n",
    "    print(\"Null Hypothesis is accepted,  𝜇=34\")"
   ]
  },
  {
   "cell_type": "markdown",
   "metadata": {},
   "source": [
    "Problem Statement 4:\n",
    "Based on population figures and other general information on the U.S. population,\n",
    "suppose it has been estimated that, on average, a family of four in the U.S. spends\n",
    "about $1135 annually on dental expenditures. Suppose further that a regional dental\n",
    "association wants to test to determine if this figure is accurate for their area of\n",
    "country. To test this, 22 families of 4 are randomly selected from the population in\n",
    "that area of the country and a log is kept of the family’s dental expenditure for one\n",
    "year. The resulting data are given below. Assuming, that dental expenditure is\n",
    "normally distributed in the population, use the data and an alpha of 0.5 to test the\n",
    "dental association’s hypothesis.\n",
    "1008, 812, 1117, 1323, 1308, 1415, 831, 1021, 1287, 851, 930, 730, 699,\n",
    "872, 913, 944, 954, 987, 1695, 995, 1003, 994"
   ]
  },
  {
   "cell_type": "raw",
   "metadata": {},
   "source": [
    "Null Hypothesis : H0: mean=$1135(on average,a family of four in the U.S.spends about $1135 annually on dental expenditures)\n",
    "Alternative Hypothesis : H1:mean!=$1135(Two tailed test)"
   ]
  },
  {
   "cell_type": "code",
   "execution_count": 13,
   "metadata": {},
   "outputs": [
    {
     "name": "stdout",
     "output_type": "stream",
     "text": [
      "Null Hypothesis is rejected, 𝜇!=$1135\n"
     ]
    }
   ],
   "source": [
    "# Since the sample size<30 and population variance is not known and the sample is derived from a normal population we use t-test\n",
    "alpha=0.5\n",
    "samp_data=np.array([1008,812,1117,1323,1308,1415,831,1021,1287,851,930,730,699,872,913,944,954,987,1695,995,1003,994])\n",
    "samp_mean=np.mean(samp_data)\n",
    "samp_std=np.std(samp_data)\n",
    "t=t_stat(pop_mean=1135,samp_mean=samp_mean,se=sample_error(samp_std,len(samp_data)))\n",
    "p=2*(1-st.t.cdf(x=np.absolute(t),df=21))\n",
    "if p<alpha:\n",
    "    print(\"Null Hypothesis is rejected, 𝜇!=$1135\")\n",
    "else:\n",
    "    print(\"Null Hypothesis is accepted,  𝜇=$1135\")"
   ]
  },
  {
   "cell_type": "raw",
   "metadata": {},
   "source": [
    "Problem Statement 5:\n",
    "In a report prepared by the Economic Research Department of a major bank the\n",
    "Department manager maintains that the average annual family income on Metropolis\n",
    "is $48,432. What do you conclude about the validity of the report if a random sample\n",
    "of 400 families shows and average income of $48,574 with a standard deviation of\n",
    "2000?"
   ]
  },
  {
   "cell_type": "raw",
   "metadata": {},
   "source": [
    "Null Hypothesis H0 : Average Family Income on Metropolis is $48,432(𝜇=48,432)\n",
    "Alternative Hypothesis H1 : 𝜇!=48432(Two-Tailed test)"
   ]
  },
  {
   "cell_type": "code",
   "execution_count": 14,
   "metadata": {},
   "outputs": [
    {
     "name": "stdout",
     "output_type": "stream",
     "text": [
      "Null Hypothesis is accepted(Average family income of metropolis is $48432)\n"
     ]
    }
   ],
   "source": [
    "#Since the sample size>30 and the normality of the sample is not known we can use z-test\n",
    "alpha=0.05\n",
    "z=z_stat(pop_mean=48432,samp_mean=48574,se=sample_error(2000,400))\n",
    "p=2*(1-st.norm.cdf(x=np.absolute(z)))\n",
    "if p<alpha:\n",
    "    print(\"Null Hypothesis is rejected(Average family income of metropolis is not $48432)\")\n",
    "else:\n",
    "    print(\"Null Hypothesis is accepted(Average family income of metropolis is $48432)\")"
   ]
  },
  {
   "cell_type": "raw",
   "metadata": {},
   "source": [
    "Problem Statement 6:\n",
    "Suppose that in past years the average price per square foot for warehouses in the\n",
    "United States has been $32.28. A national real estate investor wants to determine\n",
    "whether that figure has changed now. The investor hires a researcher who randomly\n",
    "samples 19 warehouses that are for sale across the United States and finds that the\n",
    "mean price per square foot is $31.67, with a standard deviation of $1.29. assume\n",
    "that the prices of warehouse footage are normally distributed in population. If the\n",
    "researcher uses a 5% level of significance, what statistical conclusion can be\n",
    "reached? What are the hypotheses?"
   ]
  },
  {
   "cell_type": "raw",
   "metadata": {},
   "source": [
    "Null Hypothesis H0 : Average Price per square foot for wharehouses in US is  $32.28(𝜇=$32.28)\n",
    "Alternative Hypothesis H1 : 𝜇!=32.28(Two-Tailed test)"
   ]
  },
  {
   "cell_type": "code",
   "execution_count": 15,
   "metadata": {},
   "outputs": [
    {
     "name": "stdout",
     "output_type": "stream",
     "text": [
      "Null Hypothesis is accepted(𝜇=$32.28)\n"
     ]
    }
   ],
   "source": [
    "#Since the sample size <30 and population std is not known we use t-test\n",
    "alpha=0.05\n",
    "t=t_stat(pop_mean=32.28,samp_mean=31.67,se=sample_error(std=1.29,n=19))\n",
    "p=2*(1-st.t.cdf(df=18,x=np.absolute(t)))\n",
    "if p<alpha:\n",
    "    print(\"Null Hypothesis is rejected(𝜇!=$32.28)\")\n",
    "else:\n",
    "    print(\"Null Hypothesis is accepted(𝜇=$32.28)\")"
   ]
  },
  {
   "cell_type": "raw",
   "metadata": {},
   "source": [
    "Problem Statement 7\n",
    "Fill in the blank spaces in the table and draw your conclusions from it.\n",
    "In the question values of alpha and standard deviation are not given, so it is not possible to find the value of beta."
   ]
  },
  {
   "cell_type": "raw",
   "metadata": {},
   "source": [
    "Problem Statement 8:\n",
    "Find the t-score for a sample size of 16 taken from a population with mean 10 when\n",
    "the sample mean is 12 and the sample standard deviation is 1.5."
   ]
  },
  {
   "cell_type": "code",
   "execution_count": 16,
   "metadata": {},
   "outputs": [
    {
     "name": "stdout",
     "output_type": "stream",
     "text": [
      "t-score is : 5.333333333333333\n"
     ]
    }
   ],
   "source": [
    "print(\"t-score is :\",t_stat(pop_mean=10,samp_mean=12,se=sample_error(std=1.5,n=16)))"
   ]
  },
  {
   "cell_type": "raw",
   "metadata": {},
   "source": [
    "Problem Statement 9:\n",
    "Find the t-score below which we can expect 99% of sample means will fall if samples\n",
    "of size 16 are taken from a normally distributed population."
   ]
  },
  {
   "cell_type": "code",
   "execution_count": 17,
   "metadata": {},
   "outputs": [
    {
     "name": "stdout",
     "output_type": "stream",
     "text": [
      "The t-score below which we can expect 99% of sample means will fall is :  2.602480294995493\n"
     ]
    }
   ],
   "source": [
    "print(\"The t-score below which we can expect 99% of sample means will fall is : \",st.t.ppf(q=0.99,df=15))"
   ]
  },
  {
   "cell_type": "raw",
   "metadata": {},
   "source": [
    "Problem Statement 10:\n",
    "If a random sample of size 25 drawn from a normal population gives a mean of 60\n",
    "and a standard deviation of 4, find the range of t-scores where we can expect to find\n",
    "the middle 95% of all sample means. Compute the probability that (−𝑡0.05 <𝑡<𝑡0.10)."
   ]
  },
  {
   "cell_type": "code",
   "execution_count": 18,
   "metadata": {},
   "outputs": [
    {
     "name": "stdout",
     "output_type": "stream",
     "text": [
      "The t-score where we can expect to find the middle 95%of all sample means is : 1.7108820799094275\n",
      "P(−𝑡0.05 <𝑡<𝑡0.10) =  0.85\n"
     ]
    }
   ],
   "source": [
    "print(\"The t-score where we can expect to find the middle 95%of all sample means is :\",st.t.ppf(q=0.95,df=24))\n",
    "print(\"P(−𝑡0.05 <𝑡<𝑡0.10) = \",1-0.05-0.10)"
   ]
  },
  {
   "cell_type": "raw",
   "metadata": {},
   "source": [
    "Problem Statement 11:\n",
    "Two-tailed test for difference between two population means\n",
    "Is there evidence to conclude that the number of people travelling from Bangalore to\n",
    "Chennai is different from the number of people travelling from Bangalore to Hosur in\n",
    "a week, given the following:\n",
    "Population 1: Bangalore to Chennai n1 = 1200\n",
    "x1 = 452\n",
    "s1 = 212\n",
    "Population 2: Bangalore to Hosur n2 = 800\n",
    "x2 = 523\n",
    "s2 = 185"
   ]
  },
  {
   "cell_type": "raw",
   "metadata": {},
   "source": [
    "Null Hypothesis  H0: number of people travelling from Bangalore to\n",
    "Chennai is same as  from the number of people travelling from Bangalore to Hosur in\n",
    "a week(𝜇1=𝜇2)\n",
    "Alternative Hypothesis H1:number of people travelling from Bangalore to\n",
    "Chennai is different from the number of people travelling from Bangalore to Hosur in\n",
    "a week(𝜇1!=𝜇2)"
   ]
  },
  {
   "cell_type": "code",
   "execution_count": 19,
   "metadata": {},
   "outputs": [
    {
     "name": "stdout",
     "output_type": "stream",
     "text": [
      "Null Hypothesis is rejected(number of people travelling from Bangalore to Chennai is different from the number of people travelling from Bangalore to Hosur in a week(𝜇1!=𝜇2)\n"
     ]
    }
   ],
   "source": [
    "# Since the sample sizes are larger we use z-test for checking the equality of population means\n",
    "def z_stat_twomeans(x1,x2,se):\n",
    "    return (x1-x2)/se\n",
    "def sample_error_twomeans(s1,n1,s2,n2):\n",
    "    return (np.sqrt((s1**2/n1)+(s2**2/n2)))\n",
    "alpha=0.05\n",
    "z=z_stat_twomeans(x1=452,x2=523,se=sample_error_twomeans(s1=212,n1=1200,s2=185,n2=800))\n",
    "p=2*(1-st.norm.cdf(x=np.absolute(z)))\n",
    "if p<alpha:\n",
    "    print(\"Null Hypothesis is rejected(number of people travelling from Bangalore to Chennai is different from the number of people travelling from Bangalore to Hosur in a week(𝜇1!=𝜇2)\")\n",
    "else:\n",
    "    print('Null Hypothesis is accepted(number of people travelling from Bangalore to Chennai is same as  from the number of people travelling from Bangalore to Hosur in a week(𝜇1=𝜇2))')"
   ]
  },
  {
   "cell_type": "raw",
   "metadata": {},
   "source": [
    "Problem Statement 12:\n",
    "Is there evidence to conclude that the number of people preferring Duracell battery is\n",
    "different from the number of people preferring Energizer battery, given the following:\n",
    "Population 1: Duracell\n",
    "n1 = 100\n",
    "x1 = 308\n",
    "s1 = 84\n",
    "Population 2: Energizer\n",
    "n2 = 100\n",
    "x2 = 254\n",
    "s2 = 67"
   ]
  },
  {
   "cell_type": "raw",
   "metadata": {},
   "source": [
    "Null Hypothesis  H0: there is evidence to conclude that the number of people preferring Duracell battery is\n",
    "same as from the number of people preferring Energizer battery\n",
    "(𝜇1=𝜇2)\n",
    "Alternative Hypothesis H1:there is evidence to conclude that the number of people preferring Duracell battery is\n",
    "different from the number of people preferring Energizer battery\n",
    "(𝜇1!=𝜇2)"
   ]
  },
  {
   "cell_type": "code",
   "execution_count": 20,
   "metadata": {},
   "outputs": [
    {
     "name": "stdout",
     "output_type": "stream",
     "text": [
      "Null Hypothesis is rejected(there is evidence to conclude that the number of people preferring Duracell battery is different from the number of people preferring Energizer battery (𝜇1!=𝜇2))\n"
     ]
    }
   ],
   "source": [
    "# Since the sample sizes are larger we use z-test for checking the equality of population means\n",
    "alpha=0.05\n",
    "z=z_stat_twomeans(x1=308,x2=254,se=sample_error_twomeans(s1=84,n1=100,s2=67,n2=100))\n",
    "p=2*(1-st.norm.cdf(x=np.absolute(z)))\n",
    "if p<alpha:\n",
    "    print(\"Null Hypothesis is rejected(there is evidence to conclude that the number of people preferring Duracell battery is different from the number of people preferring Energizer battery (𝜇1!=𝜇2))\")\n",
    "else:\n",
    "    print(\"Null Hypothesis is accepted(there is evidence to conclude that the number of people preferring Duracell battery is same as from the number of people preferring Energizer battery (𝜇1=𝜇2))\")"
   ]
  },
  {
   "cell_type": "raw",
   "metadata": {},
   "source": [
    "Problem Statement 13:\n",
    "Pooled estimate of the population variance\n",
    "Does the data provide sufficient evidence to conclude that average percentage\n",
    "increase in the price of sugar differs when it is sold at two different prices?\n",
    "Population 1: Price of sugar = Rs. 27.50 n1 = 14\n",
    "x1 = 0.317%\n",
    "s1 = 0.12%\n",
    "Population 2: Price of sugar = Rs. 20.00 n2 = 9\n",
    "x2 = 0.21%\n",
    "s2 = 0.11%"
   ]
  },
  {
   "cell_type": "raw",
   "metadata": {},
   "source": [
    "Null Hypothesis H0: Average percentage increase in the price of sugar is same when it is sold at two different prices.\n",
    "Alternative Hypothesis H1: Average percentage increase in the price of sugar differs when it is sold at two different prices."
   ]
  },
  {
   "cell_type": "code",
   "execution_count": 22,
   "metadata": {},
   "outputs": [
    {
     "name": "stdout",
     "output_type": "stream",
     "text": [
      "Null Hypothesis is accepted(Average percentage increase in the price of sugar is same when it is sold at two different prices.)\n"
     ]
    }
   ],
   "source": [
    "#Sample sizes are small and the population variance is unknown we use t-test for equality of means and estimate the population variance\n",
    "alpha=0.05\n",
    "def est_std(n1,s1,n2,s2):\n",
    "    return np.sqrt(((n1*s1**2)+(n2*s2**2))/(n1+n2-2))\n",
    "est_standard_dev=est_std(n1=14,s1=0.12,n2=9,s2=0.11)\n",
    "t=z_stat_twomeans(x1=0.317,x2=0.21,se=sample_error_twomeans(s1=est_standard_dev,s2=est_standard_dev,n1=14,n2=9))\n",
    "p=2*(1-st.t.cdf(x=np.absolute(t),df=14+9-2))\n",
    "if p<alpha:\n",
    "    print(\"Null Hypothesis is rejected(Average percentage increase in the price of sugar differs when it is sold at two different prices.)\")\n",
    "else:\n",
    "    print(\"Null Hypothesis is accepted(Average percentage increase in the price of sugar is same when it is sold at two different prices.)\")"
   ]
  },
  {
   "cell_type": "raw",
   "metadata": {},
   "source": [
    "Problem Statement 14:\n",
    "The manufacturers of compact disk players want to test whether a small price\n",
    "reduction is enough to increase sales of their product. Is there evidence that the\n",
    "small price reduction is enough to increase sales of compact disk players?\n",
    "Population 1: Before reduction\n",
    "n1 = 15\n",
    "x1 = Rs. 6598 s1 = Rs. 844\n",
    "Population 2: After reduction n2 = 12\n",
    "x2 = RS. 6870\n",
    "s2 = Rs. 669"
   ]
  },
  {
   "cell_type": "raw",
   "metadata": {},
   "source": [
    "Null Hypothesis H0 : 𝜇2-𝜇1<=0(Average Sales before and after reduction is same or less)\n",
    "Alternative Hypothesis H1 : 𝜇2>𝜇1(Average Sales after reduction increased)(One Tailed Test)"
   ]
  },
  {
   "cell_type": "code",
   "execution_count": 23,
   "metadata": {},
   "outputs": [
    {
     "name": "stdout",
     "output_type": "stream",
     "text": [
      "Null Hypothesis is accepted(Average Sales before and after reduction is same or less)\n"
     ]
    }
   ],
   "source": [
    "alpha=0.05\n",
    "est_stand_dev=est_std(n1=15,s1=844,n2=12,s2=669)\n",
    "t=z_stat_twomeans(x1=6870,x2=6598,se=sample_error_twomeans(s1=est_stand_dev,s2=est_stand_dev,n1=15,n2=12))\n",
    "p=1-(st.t.cdf(x=t,df=15+12-1))\n",
    "if p<alpha:\n",
    "    print(\"Null Hypothesis is rejected(Average Sales after reduction increased)\")\n",
    "else: \n",
    "    print(\"Null Hypothesis is accepted(Average Sales before and after reduction is same or less)\")"
   ]
  },
  {
   "cell_type": "raw",
   "metadata": {},
   "source": [
    "Problem Statement 15:\n",
    "Comparisons of two population proportions when the hypothesized difference is zero\n",
    "Carry out a two-tailed test of the equality of banks’ share of the car loan market in\n",
    "1980 and 1995.\n",
    "Population 1: 1980\n",
    "n1 = 1000\n",
    "x1 = 53\n",
    "𝑝 1 = 0.53\n",
    "Population 2: 1985\n",
    "n2 = 100\n",
    "x2 = 43\n",
    "𝑝 2= 0.53"
   ]
  },
  {
   "cell_type": "raw",
   "metadata": {},
   "source": [
    "Null Hypothesis H0: Banks share of the car loan market in 1980 and 1995 is equal(P1=P2)\n",
    "Alternative Hypothesis H1 : Banks share of the car loan market in 1980 and 1995 is not equal(P1!=P2)(Two-Tailed test)"
   ]
  },
  {
   "cell_type": "code",
   "execution_count": 24,
   "metadata": {},
   "outputs": [
    {
     "name": "stdout",
     "output_type": "stream",
     "text": [
      "Null Hypothesis is rejected(Banks share of the car loan market in 1980 and 1995 is not equal(P1!=P2))\n"
     ]
    }
   ],
   "source": [
    "def z_test_pop_proportions(p1,p2,se):\n",
    "    return ((p1-p2)/se)\n",
    "def sample_error_pop_proportions(p1,p2,n1,n2):\n",
    "    return np.sqrt(((p1*(1-p1))/n1)+((p2*(1-p2))/n2))\n",
    "alpha=0.05\n",
    "p1=53/1000\n",
    "p2=43/100\n",
    "z=z_test_pop_proportions(p1=p1,p2=p2,se=sample_error_pop_proportions(p1=p1,p2=p2,n1=1000,n2=100))\n",
    "p=2*(1-st.norm.cdf(x=np.absolute(z)))\n",
    "if p<alpha:\n",
    "    print(\"Null Hypothesis is rejected(Banks share of the car loan market in 1980 and 1995 is not equal(P1!=P2))\")\n",
    "else:\n",
    "    print(\"Null Hypothesis is accepted(Banks share of the car loan market in 1980 and 1995 is equal(P1=P2))\")"
   ]
  },
  {
   "cell_type": "raw",
   "metadata": {},
   "source": [
    "Problem Statement 16:\n",
    "Carry out a one-tailed test to determine whether the population proportion of\n",
    "traveler’s check buyers who buy at least $2500 in checks when sweepstakes prizes\n",
    "are offered as at least 10% higher than the proportion of such buyers when no\n",
    "sweepstakes are on.\n",
    "Population 1: With sweepstakes\n",
    "n1 = 300\n",
    "x1 = 120\n",
    "𝑝 = 0.40\n",
    "Population 2: No sweepstakes n2 = 700\n",
    "x2 = 140\n",
    "𝑝 2= 0.20"
   ]
  },
  {
   "cell_type": "raw",
   "metadata": {},
   "source": [
    "Null Hypothesis H0 : P1-P2>=0.1(the population proportion of traveler’s check buyers who buy at least $2500 in checks when sweepstakes prizes are offered as at least 10% higher than the proportion of such buyers when no sweepstakes are on.)\n",
    "Alternative Hypothesis H1 : P1-P2<0.1(Left-tailed test)"
   ]
  },
  {
   "cell_type": "code",
   "execution_count": 25,
   "metadata": {},
   "outputs": [
    {
     "name": "stdout",
     "output_type": "stream",
     "text": [
      "Null Hypothesis is accepted(the population proportion of traveler’s check buyers who buy at least $2500 in checks when sweepstakes prizes are offered as at least 10% higher than the proportion of such buyers when no sweepstakes are on)\n"
     ]
    }
   ],
   "source": [
    "alpha=0.05\n",
    "se=sample_error_pop_proportions(p1=0.4,p2=0.2,n1=300,n2=140)\n",
    "z=((0.4-0.2-0.1)/se)\n",
    "p=st.norm.cdf(z)\n",
    "if p<alpha:\n",
    "    print(\"Null Hypothesis is rejected\")\n",
    "else:\n",
    "    print(\"Null Hypothesis is accepted(the population proportion of traveler’s check buyers who buy at least $2500 in checks when sweepstakes prizes are offered as at least 10% higher than the proportion of such buyers when no sweepstakes are on)\")"
   ]
  },
  {
   "cell_type": "raw",
   "metadata": {},
   "source": [
    "Problem Statement 17:\n",
    "A die is thrown 132 times with the following results: Number turned up: 1, 2, 3, 4, 5, 6\n",
    "Frequency: 16, 20, 25, 14, 29, 28\n",
    "Is the die unbiased? Consider the degrees of freedom as 𝑝−1."
   ]
  },
  {
   "cell_type": "raw",
   "metadata": {},
   "source": [
    "Null Hypotheis H0: The dice is unbiased\n",
    "Alternative Hypothesis H1 : The dice is biased"
   ]
  },
  {
   "cell_type": "raw",
   "metadata": {},
   "source": [
    "If a die is unbiased then the probabilities of getting 1,2,3,4,5,6 must be equal to 1/6.\n",
    "So the expected frequencies of 1,2,3,4,5,6 for 132 trails must be 22(22/132=1/6)"
   ]
  },
  {
   "cell_type": "code",
   "execution_count": 26,
   "metadata": {},
   "outputs": [
    {
     "name": "stdout",
     "output_type": "stream",
     "text": [
      "Null Hypothesis is accepted(Dice is unbiased)\n"
     ]
    }
   ],
   "source": [
    "observed=np.array([16,20,25,14,29,28])\n",
    "expected=np.array([22,22,22,22,22,22])\n",
    "chi,p=st.chisquare(f_obs=observed,f_exp=expected)\n",
    "if p<0.05:\n",
    "    print(\"Null Hypothesis is rejected(Dice is biased)\")\n",
    "else:\n",
    "    print(\"Null Hypothesis is accepted(Dice is unbiased)\")"
   ]
  },
  {
   "cell_type": "raw",
   "metadata": {},
   "source": [
    "Problem Statement 18:\n",
    "In a certain town, there are about one million eligible voters. A simple random\n",
    "sample of 10,000 eligible voters was chosen to study the relationship between\n",
    "gender and participation in the last election. The results are summarized in the\n",
    "following 2X2 (read two by two) contingency table:\n",
    "               Men                Women      Total\n",
    "Voted          2792               3591       6383 \n",
    "Not Voted      1486               2131       3617\n",
    "Total          4278               5722       10000\n",
    "We would want to check whether being a man or a woman (columns) is independent of\n",
    "having voted in the last election (rows). In other words, is “gender and voting independent”?"
   ]
  },
  {
   "cell_type": "raw",
   "metadata": {},
   "source": [
    "Null Hypothesis H0 :Gender and voting is independent\n",
    "Alternative Hypothesis H1 : Gender and voting are dependent"
   ]
  },
  {
   "cell_type": "code",
   "execution_count": 27,
   "metadata": {},
   "outputs": [
    {
     "name": "stdout",
     "output_type": "stream",
     "text": [
      "The expected values are : [[2730.6474 3652.3526]\n",
      " [1547.3526 2069.6474]]\n",
      "Null Hypothesis is rejected(Gender and voting are dependent)\n"
     ]
    }
   ],
   "source": [
    "#We use a chi-square test with the help of the above contingency table and calculate the chi-square variate \n",
    "alpha=0.05\n",
    "inp=np.array([[2792,3591],[1486,2131]])\n",
    "chi2,p,dof,expected=st.chi2_contingency(inp)\n",
    "print(\"The expected values are :\",expected)\n",
    "if p<alpha:\n",
    "    print(\"Null Hypothesis is rejected(Gender and voting are dependent)\")\n",
    "else:\n",
    "    print(\"Null Hypothesis is accepted(Gender and voting is independent)\")"
   ]
  },
  {
   "cell_type": "raw",
   "metadata": {},
   "source": [
    "Problem Statement 19:\n",
    "A sample of 100 voters are asked which of four candidates they would vote for in an\n",
    "election. The number supporting each candidate is given below:\n",
    "Higgins          Reardon        White       Charlton\n",
    "  41               19             24           16\n",
    "Do the data suggest that all candidates are equally popular? [Chi-Square = 14.96,\n",
    "with 3 df, 𝑝<0.05."
   ]
  },
  {
   "cell_type": "raw",
   "metadata": {},
   "source": [
    "Null Hypothesis H0 : All candidates are equally popular\n",
    "Alternative Hypothesis H1 : All candidates are not equally popular"
   ]
  },
  {
   "cell_type": "code",
   "execution_count": 28,
   "metadata": {},
   "outputs": [
    {
     "name": "stdout",
     "output_type": "stream",
     "text": [
      "Null Hypothesis is rejected(All candidates are not equally popular)\n"
     ]
    }
   ],
   "source": [
    "alpha=0.05\n",
    "obs=[41,19,24,16]\n",
    "exp=[25,25,25,25]\n",
    "chi,p=st.chisquare(f_obs=obs,f_exp=exp)\n",
    "if p<alpha:\n",
    "    print(\"Null Hypothesis is rejected(All candidates are not equally popular)\")\n",
    "else:\n",
    "    print(\"Null Hypothesis is accepted(All candidates are equally popular)\")"
   ]
  },
  {
   "cell_type": "raw",
   "metadata": {},
   "source": [
    "Problem Statement 20:\n",
    "Children of three ages are asked to indicate their preference for three photographs of\n",
    "adults. Do the data suggest that there is a significant relationship between age and\n",
    "photograph preference? What is wrong with this study? [Chi-Square = 29.6, with 4\n",
    "df: 𝑝 < 0.05]."
   ]
  },
  {
   "cell_type": "raw",
   "metadata": {},
   "source": [
    "Null Hypothesis H0 : There is no significant relationship between age and photograph preference.\n",
    "Alternative Hypothesis H1 : There is a significant relationship between age and photograph preference. "
   ]
  },
  {
   "cell_type": "code",
   "execution_count": 29,
   "metadata": {},
   "outputs": [
    {
     "name": "stdout",
     "output_type": "stream",
     "text": [
      "Null Hypothesis is rejected(There is a significant relationship between age and photograph preference. )\n"
     ]
    }
   ],
   "source": [
    "alpha=0.05\n",
    "inp=np.array([[18,22,20],[2,28,40],[20,10,40]])\n",
    "chi2,p,dof,expected=st.chi2_contingency(inp)\n",
    "if p<alpha:\n",
    "    print(\"Null Hypothesis is rejected(There is a significant relationship between age and photograph preference. )\")\n",
    "else:\n",
    "    print(\"Null Hypothesis is accepted(There is no significant relationship between age and photograph preference.)\")"
   ]
  },
  {
   "cell_type": "raw",
   "metadata": {},
   "source": [
    "Problem Statement 21:\n",
    "A study of conformity using the Asch paradigm involved two conditions: one where\n",
    "one confederate supported the true judgement and another where no confederate\n",
    "gave the correct response.\n",
    "               Support                 No Support\n",
    "Conform           18                       40\n",
    "Not Conform       32                       10\n",
    "Is there a significant difference between the \"support\" and \"no support\" conditions in the\n",
    "frequency with which individuals are likely to conform? [Chi-Square = 19.87, with 1 df:\n",
    "𝑝 < 0.05].\n",
    "Problem"
   ]
  },
  {
   "cell_type": "raw",
   "metadata": {},
   "source": [
    "Null Hypothesis H0 : There is no significant difference between the \"support\" and \"no support\" conditions in the\n",
    "                     frequency with which individuals are likely to conform.\n",
    "Alternative Hypothesis H1 : There is a significant difference between the \"support\" and \"no support\" conditions in the\n",
    "                            frequency with which individuals are likely to conform. "
   ]
  },
  {
   "cell_type": "code",
   "execution_count": 30,
   "metadata": {},
   "outputs": [
    {
     "name": "stdout",
     "output_type": "stream",
     "text": [
      "Null Hypothesis is rejected(There is a significant difference between the support and no support conditions in the frequency with which individuals are likely to conform.)\n"
     ]
    }
   ],
   "source": [
    "alpha=0.05\n",
    "inp=np.array([[18,40],[32,10]])\n",
    "chi2,p,dof,expected=st.chi2_contingency(inp)\n",
    "if p<alpha:\n",
    "    print(\"Null Hypothesis is rejected(There is a significant difference between the support and no support conditions in the frequency with which individuals are likely to conform.)\")\n",
    "else:\n",
    "    print(\"Null Hypothesis is accepted(There is no significant difference between the support and no support conditions in the frequency with which individuals are likely to conform.)\")"
   ]
  },
  {
   "cell_type": "raw",
   "metadata": {},
   "source": [
    "Problem Statement 22:\n",
    "We want to test whether short people differ with respect to their leadership qualities\n",
    "(Genghis Khan, Adolf Hitler and Napoleon were all stature-deprived, and how many midget\n",
    "MP's are there?) The following table shows the frequencies with which 43 short people and\n",
    "52 tall people were categorized as \"leaders\", \"followers\" or as \"unclassifiable\". Is there a\n",
    "relationship between height and leadership qualities?\n",
    "[Chi-Square = 10.71, with 2 df: 𝑝 < 0.01]."
   ]
  },
  {
   "cell_type": "code",
   "execution_count": 4,
   "metadata": {},
   "outputs": [
    {
     "data": {
      "text/html": [
       "<div>\n",
       "<style scoped>\n",
       "    .dataframe tbody tr th:only-of-type {\n",
       "        vertical-align: middle;\n",
       "    }\n",
       "\n",
       "    .dataframe tbody tr th {\n",
       "        vertical-align: top;\n",
       "    }\n",
       "\n",
       "    .dataframe thead th {\n",
       "        text-align: right;\n",
       "    }\n",
       "</style>\n",
       "<table border=\"1\" class=\"dataframe\">\n",
       "  <thead>\n",
       "    <tr style=\"text-align: right;\">\n",
       "      <th></th>\n",
       "      <th>Short</th>\n",
       "      <th>Tall</th>\n",
       "    </tr>\n",
       "  </thead>\n",
       "  <tbody>\n",
       "    <tr>\n",
       "      <td>Leader</td>\n",
       "      <td>12</td>\n",
       "      <td>32</td>\n",
       "    </tr>\n",
       "    <tr>\n",
       "      <td>Follower</td>\n",
       "      <td>22</td>\n",
       "      <td>14</td>\n",
       "    </tr>\n",
       "    <tr>\n",
       "      <td>Unclassifiable</td>\n",
       "      <td>9</td>\n",
       "      <td>6</td>\n",
       "    </tr>\n",
       "  </tbody>\n",
       "</table>\n",
       "</div>"
      ],
      "text/plain": [
       "                Short  Tall\n",
       "Leader             12    32\n",
       "Follower           22    14\n",
       "Unclassifiable      9     6"
      ]
     },
     "execution_count": 4,
     "metadata": {},
     "output_type": "execute_result"
    }
   ],
   "source": [
    "df=pd.DataFrame([[12,32],[22,14],[9,6]],columns=['Short','Tall'],index=['Leader','Follower','Unclassifiable'])\n",
    "df"
   ]
  },
  {
   "cell_type": "raw",
   "metadata": {},
   "source": [
    "Null Hypothesis H0 : There is no relationship between height and leadership qualities.\n",
    "Alternative Hypothesis H1 : There is a relationship between height and leadership qualities. "
   ]
  },
  {
   "cell_type": "code",
   "execution_count": 31,
   "metadata": {},
   "outputs": [
    {
     "name": "stdout",
     "output_type": "stream",
     "text": [
      "Null Hypothesis is rejected(There is a relationship between height and leadership qualities.)\n"
     ]
    }
   ],
   "source": [
    "alpha=0.01\n",
    "inp=np.array([[12,32],[22,14],[9,6]])\n",
    "chi2,p,dof,expected=st.chi2_contingency(inp)\n",
    "if p<alpha:\n",
    "    print(\"Null Hypothesis is rejected(There is a relationship between height and leadership qualities.)\")\n",
    "else:\n",
    "    print(\"Null Hypothesis is accepted(There is no relationship between height and leadership qualities.)\")"
   ]
  },
  {
   "cell_type": "raw",
   "metadata": {},
   "source": [
    "Problem Statement 23:\n",
    "Each respondent in the Current Population Survey of March 1993 was classified as\n",
    "employed, unemployed, or outside the labor force. The results for men in California age 35-\n",
    "44 can be cross-tabulated by marital status, as follows:\n",
    "Men of different marital status seem to have different distributions of labor force status. Or is\n",
    "this just chance variation? (you may assume the table results from a simple random\n",
    "sample.)"
   ]
  },
  {
   "cell_type": "code",
   "execution_count": 3,
   "metadata": {},
   "outputs": [
    {
     "data": {
      "text/html": [
       "<div>\n",
       "<style scoped>\n",
       "    .dataframe tbody tr th:only-of-type {\n",
       "        vertical-align: middle;\n",
       "    }\n",
       "\n",
       "    .dataframe tbody tr th {\n",
       "        vertical-align: top;\n",
       "    }\n",
       "\n",
       "    .dataframe thead th {\n",
       "        text-align: right;\n",
       "    }\n",
       "</style>\n",
       "<table border=\"1\" class=\"dataframe\">\n",
       "  <thead>\n",
       "    <tr style=\"text-align: right;\">\n",
       "      <th></th>\n",
       "      <th>Married</th>\n",
       "      <th>Widowed,Divorced or seperated</th>\n",
       "      <th>Never Married</th>\n",
       "    </tr>\n",
       "  </thead>\n",
       "  <tbody>\n",
       "    <tr>\n",
       "      <td>Employed</td>\n",
       "      <td>679</td>\n",
       "      <td>103</td>\n",
       "      <td>114</td>\n",
       "    </tr>\n",
       "    <tr>\n",
       "      <td>Unemployed</td>\n",
       "      <td>63</td>\n",
       "      <td>10</td>\n",
       "      <td>20</td>\n",
       "    </tr>\n",
       "    <tr>\n",
       "      <td>Not in labor force</td>\n",
       "      <td>42</td>\n",
       "      <td>18</td>\n",
       "      <td>25</td>\n",
       "    </tr>\n",
       "  </tbody>\n",
       "</table>\n",
       "</div>"
      ],
      "text/plain": [
       "                    Married  Widowed,Divorced or seperated  Never Married\n",
       "Employed                679                            103            114\n",
       "Unemployed               63                             10             20\n",
       "Not in labor force       42                             18             25"
      ]
     },
     "execution_count": 3,
     "metadata": {},
     "output_type": "execute_result"
    }
   ],
   "source": [
    "df=pd.DataFrame([[679,103,114],[63,10,20],[42,18,25]],columns=['Married','Widowed,Divorced or seperated','Never Married'],index=['Employed','Unemployed','Not in labor force'])\n",
    "df"
   ]
  },
  {
   "cell_type": "raw",
   "metadata": {},
   "source": [
    "Null Hypothesis H0: Marital status and employement status are independent.\n",
    "Alternative Hypothesis H1 : Marital status and employement status are dependent."
   ]
  },
  {
   "cell_type": "code",
   "execution_count": 32,
   "metadata": {},
   "outputs": [
    {
     "name": "stdout",
     "output_type": "stream",
     "text": [
      "Null Hypothesis is rejected(Marital status and employement status are dependent.)\n"
     ]
    }
   ],
   "source": [
    "alpha=0.05\n",
    "inp=np.array([[679,103,114],[63,10,20],[42,18,25]])\n",
    "chi2,p,dof,expected=st.chi2_contingency(inp)\n",
    "if p<alpha:\n",
    "    print(\"Null Hypothesis is rejected(Marital status and employement status are dependent.)\")\n",
    "else:\n",
    "    print(\"Null Hypothesis is accepted(Marital status and employement status are independent.)\")"
   ]
  }
 ],
 "metadata": {
  "kernelspec": {
   "display_name": "Python 3",
   "language": "python",
   "name": "python3"
  },
  "language_info": {
   "codemirror_mode": {
    "name": "ipython",
    "version": 3
   },
   "file_extension": ".py",
   "mimetype": "text/x-python",
   "name": "python",
   "nbconvert_exporter": "python",
   "pygments_lexer": "ipython3",
   "version": "3.7.4"
  }
 },
 "nbformat": 4,
 "nbformat_minor": 2
}
