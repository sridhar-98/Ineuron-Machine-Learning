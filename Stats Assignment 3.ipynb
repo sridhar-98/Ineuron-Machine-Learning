{
 "cells": [
  {
   "cell_type": "code",
   "execution_count": 1,
   "metadata": {},
   "outputs": [],
   "source": [
    "import scipy.stats as st\n",
    "import numpy as np"
   ]
  },
  {
   "cell_type": "code",
   "execution_count": 4,
   "metadata": {},
   "outputs": [],
   "source": [
    "def z_stat(samp_mean,pop_mean,se):\n",
    "    return (samp_mean-pop_mean)/se\n",
    "def t_stat(samp_mean,pop_mean,se):\n",
    "    return (samp_mean-pop_mean)/se\n",
    "def sample_error(std,n):\n",
    "    return std/(np.sqrt(n))\n",
    "def z_test_pop_proportions(p1,p2,se):\n",
    "    return ((p1-p2)/se)\n",
    "def sample_error_pop_proportions(p1,p2,n1,n2):\n",
    "    return np.sqrt(((p1*(1-p1))/n1)+((p2*(1-p2))/n2))"
   ]
  },
  {
   "cell_type": "raw",
   "metadata": {},
   "source": [
    "Problem Statement 1:\n",
    "Blood glucose levels for obese patients have a mean of 100 with a standard deviation of\n",
    "15. A researcher thinks that a diet high in raw cornstarch will have a positive effect on\n",
    "blood glucose levels. A sample of 36 patients who have tried the raw cornstarch diet\n",
    "have a mean glucose level of 108. Test the hypothesis that the raw cornstarch had an\n",
    "effect or not."
   ]
  },
  {
   "cell_type": "raw",
   "metadata": {},
   "source": [
    "Null Hypothesis H0 : mean=100(The raw cornstarch has no effect)\n",
    "Alternative Hypothesis H1 : mean!=100(The raw corn starch had an effect)(Two-tailed test)"
   ]
  },
  {
   "cell_type": "code",
   "execution_count": 5,
   "metadata": {},
   "outputs": [
    {
     "name": "stdout",
     "output_type": "stream",
     "text": [
      "Null Hypothesis is rejected(The raw corn starch had an effect)\n"
     ]
    }
   ],
   "source": [
    "alpha=0.05\n",
    "#Since the sample size >30,we use z test\n",
    "z=z_stat(samp_mean=108,pop_mean=100,se=sample_error(std=15,n=36))\n",
    "p=2*(1-st.norm.cdf(np.absolute(z)))\n",
    "if p<alpha:\n",
    "    print(\"Null Hypothesis is rejected(The raw corn starch had an effect)\")\n",
    "else:\n",
    "    print(\"Null Hypothesis is accepted(The raw cornstarch has no effect)\")"
   ]
  },
  {
   "cell_type": "raw",
   "metadata": {},
   "source": [
    "Problem Statement 2:\n",
    "In one state, 52% of the voters are Republicans, and 48% are Democrats. In a second\n",
    "state, 47% of the voters are Republicans, and 53% are Democrats. Suppose a simple\n",
    "random sample of 100 voters are surveyed from each state.\n",
    "What is the probability that the survey will show a greater percentage of Republican\n",
    "voters in the second state than in the first state?"
   ]
  },
  {
   "cell_type": "raw",
   "metadata": {},
   "source": [
    "Given data:\n",
    "Population 1:\n",
    "p1(Republicans)=0.52\n",
    "p1(Democrats)=0.48\n",
    "n1=100\n",
    "\n",
    "Population 2:\n",
    "p2(Republicans)=0.47\n",
    "p2(Democrats)=0.53\n",
    "n2=100"
   ]
  },
  {
   "cell_type": "raw",
   "metadata": {},
   "source": [
    "Null Hypothesis H0 :mean1(Republican)=mean2(Republicans)\n",
    "Alternative Hypothesis H1 : mean2(Republicans)>mean1(Republicans)(One-Tailed test)(Right-Tailed)\n",
    "                                   (OR)\n",
    "                            mean1(Republicans)<mean2(Republicans)(Left-Tailed)"
   ]
  },
  {
   "cell_type": "code",
   "execution_count": 23,
   "metadata": {},
   "outputs": [
    {
     "name": "stdout",
     "output_type": "stream",
     "text": [
      "The probability that the survey will show a greater percentage of Republican voters in the second state than in the first state is : 0.23946399182220013\n"
     ]
    }
   ],
   "source": [
    "z=z_test_pop_proportions(p1=0.52,p2=0.47,se=sample_error_pop_proportions(p1=0.52,p2=0.47,n1=100,n2=100))\n",
    "p=st.norm.cdf(z)\n",
    "print(\"The probability that the survey will show a greater percentage of Republican voters in the second state than in the first state is :\",1-p)"
   ]
  },
  {
   "cell_type": "raw",
   "metadata": {},
   "source": [
    "Problem Statement 3:\n",
    "You take the SAT and score 1100. The mean score for the SAT is 1026 and the standard\n",
    "deviation is 209. How well did you score on the test compared to the average test taker?"
   ]
  },
  {
   "cell_type": "code",
   "execution_count": 20,
   "metadata": {},
   "outputs": [
    {
     "name": "stdout",
     "output_type": "stream",
     "text": [
      "The z=score of the data is : 0.35406698564593303\n",
      "The above z-score indicates that my score is 0.35406698564593303 standard deviations away from the mean SAT score\n"
     ]
    }
   ],
   "source": [
    "z_score=(1100-1026)/209\n",
    "print(\"The z=score of the data is :\",z_score)\n",
    "print('The above z-score indicates that my score is {} standard deviations away from the mean SAT score'.format(z_score))"
   ]
  }
 ],
 "metadata": {
  "kernelspec": {
   "display_name": "Python 3",
   "language": "python",
   "name": "python3"
  },
  "language_info": {
   "codemirror_mode": {
    "name": "ipython",
    "version": 3
   },
   "file_extension": ".py",
   "mimetype": "text/x-python",
   "name": "python",
   "nbconvert_exporter": "python",
   "pygments_lexer": "ipython3",
   "version": "3.7.4"
  }
 },
 "nbformat": 4,
 "nbformat_minor": 2
}
